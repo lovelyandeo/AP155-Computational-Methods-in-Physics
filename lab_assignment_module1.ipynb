{
  "cells": [
    {
      "cell_type": "markdown",
      "metadata": {
        "id": "G0BcK0H_G1Iu"
      },
      "source": [
        "# **AP155 Lab Assignment** \n",
        "## Module 1: Integrals and Derivatives\n",
        "\n",
        "_Instructions_: Answer each problem as completely as you can. Discuss **all** your answers as clearly and concisely as possible. \n",
        "\n",
        "_Scoring Criteria_: 50% - *correctness of code*; 50% - *discussion of the code and results*. Maximum score is **100 points** (Problems 1 to 5 are worth 20, 20, 10, 30, and 20 points, respectively).\n",
        "\n",
        "_Due Date_: **5PM of November 3 (Thu)**\n",
        "\n"
      ]
    },
    {
      "cell_type": "markdown",
      "metadata": {
        "id": "PeHZ9kP8JaVR"
      },
      "source": [
        "### Student Information \n",
        "\n",
        "_Full Name (Last Name, First Name)_: Andeo, Lovely \\\n",
        "_Student No._: 2020-05405\\\n",
        "_Section_: HX4"
      ]
    },
    {
      "cell_type": "markdown",
      "metadata": {
        "id": "Hc183co-J4eI"
      },
      "source": [
        "### Submission Information\n",
        "\n",
        "_Date and Time Submitted (most recent upload)_: \n",
        "\n",
        "**HONOR PLEDGE** I affirm that I have upheld the highest principles of honesty and integrity in my academic work and that this lab assignment is my own work.\n",
        "\n",
        "**Sign here with your full name: Lovely L. Andeo** "
      ]
    },
    {
      "cell_type": "markdown",
      "metadata": {
        "id": "X1UGsRpW-eQs"
      },
      "source": [
        "### Grading Information (c/o Lab Instructor)\n",
        "\n",
        "TOTAL SCORE: **XX**/100\n",
        "\n",
        "Score breakdown:\n",
        "* Problem 1 - XX/20\n",
        "* Problem 2 - XX/20\n",
        "* Problem 3 - XX/10\n",
        "* Problem 4 - XX/30\n",
        "* Problem 5 - XX/20\n",
        "\n",
        "_Date and Time Scored (MM/DD/YYYY HH:MM AM/PM):_ "
      ]
    },
    {
      "cell_type": "markdown",
      "metadata": {
        "id": "LxWuqiCFMsEh"
      },
      "source": [
        "### PROBLEM 1 (20 pts.) \n",
        "**Integration using the trapezoidal rule and Simpson's rule**\n",
        "\n",
        "Calculate the integral of the function $ 2x^4 + 3x^2 + 4x + 5$ from $x=0$ to $x=5$.\n",
        "\n",
        "1. Do the numerical calculation using the trapezoidal rule with 10, 100, and 1,000 slices. Describe each step of the calculation clearly and concisely. *(8 pts.; 4 pts. for the code & 4 pts. for the discussion text)*\n",
        "\n",
        "2. What are the percentage errors of your answers in (1)? *(2 pts.)*\n",
        "\n",
        "3. Repeat the calculation using Simpson's rule with 10, 100, and 1,000 slices. Describe each step of the calculation clearly and concisely. *(8 pts.;  4 pts. for the code & 4 pts. for the discussion text)*\n",
        "\n",
        "4. What are the percentage errors of your answers in (3)? How do they compare with the results from (1) for the same number of slices? *(2 pts.)*"
      ]
    },
    {
      "cell_type": "code",
      "execution_count": 34,
      "metadata": {},
      "outputs": [
        {
          "name": "stdout",
          "output_type": "stream",
          "text": [
            "N = 10 , Estimate= 1471.4375 , Percent error = 1.4784482758620765\n",
            "N = 100 , Estimate= 1450.2145812500003 , Percent error = 0.014798706896579361\n",
            "N = 1000 , Estimate= 1450.0021458331234 , Percent error = 0.00014798849126140823\n"
          ]
        }
      ],
      "source": [
        "import numpy as np\n",
        "\n",
        "# This is the function we want to integrate\n",
        "def f(x):\n",
        "    return 2*x**4 + 3*x**2 +4*x + 5\n",
        "# Integration limits\n",
        "a = 0.0 \n",
        "b = 5.0 \n",
        "\n",
        "# Implementing the trapezoidal rule\n",
        "def integ_trap(N, a, b):\n",
        "  h= (b-a)/N\n",
        "  \n",
        "  s = 0.5*f(a) + 0.5*f(b)\n",
        "  for k in range(1,N):\n",
        "      s += f(a+k*h)\n",
        "  s = s*h\n",
        "  return(s)\n",
        "\n",
        "N_arr = np.array([10, 100, 1000]) # get estimated integrals for different values of N\n",
        "I_exact = 1450.0\n",
        "pct_err = np.zeros(len(N_arr))\n",
        "s_arr = np.zeros(len(N_arr))\n",
        "\n",
        "for i in np.arange(len(N_arr)):\n",
        "  s_arr[i] = integ_trap(N_arr[i], a, b)\n",
        "  pct_err[i] = np.abs(1- s_arr[i]/I_exact)*100\n",
        "  print(\"N =\",N_arr[i], \", Estimate=\",s_arr[i], \", Percent error =\",pct_err[i])\n"
      ]
    },
    {
      "cell_type": "code",
      "execution_count": 35,
      "metadata": {},
      "outputs": [
        {
          "name": "stdout",
          "output_type": "stream",
          "text": [
            "N = 10 , Estimate= 1450.0833333333333 , Percent error = 0.005747126436772554\n",
            "N = 100 , Estimate= 1450.0000083333337 , Percent error = 5.747126552435589e-07\n",
            "N = 1000 , Estimate= 1450.0000000008342 , Percent error = 5.753175713607561e-11\n"
          ]
        }
      ],
      "source": [
        "def integ_simp(N, a, b):\n",
        "  h = (b-a)/N\n",
        "\n",
        "  s = f(a) + f(b)\n",
        "  for k in range(1,N,2): # loops over the odd values of k\n",
        "      s += 4*f(a+k*h)\n",
        "  for k in range(2,N,2): # loops over the even values of k\n",
        "      s += 2*f(a+k*h)\n",
        "  s = s*(1./3)*h\n",
        "  return(s)\n",
        "\n",
        "N_arr = np.array([10, 100, 1000]) # estimates integrals for different values of N\n",
        "s_arr = np.zeros(len(N_arr))\n",
        "pct_err = np.zeros(len(N_arr))\n",
        "I_exact = 1450.0\n",
        "\n",
        "for i in np.arange(len(N_arr)):\n",
        "  s_arr[i] = integ_simp(N_arr[i], a, b)\n",
        "  pct_err[i] = np.abs(1- s_arr[i]/I_exact)*100\n",
        "  print(\"N =\",N_arr[i], \", Estimate=\",s_arr[i], \", Percent error =\",pct_err[i])\n"
      ]
    },
    {
      "cell_type": "markdown",
      "metadata": {
        "id": "kBX9EyMLOnXj"
      },
      "source": [
        "### PROBLEM 2 (20 pts.)\n",
        "\n",
        "**Integration using the adaptive trapezoidal rule method and Romberg integration**\n",
        "\n",
        "Calculate the integral $ I = \\int_0^1 \\sin^2 \\sqrt{100x} dx $.\n",
        "\n",
        "1. Do the numerical calculation using the adaptive trapezoidal rule method to an approximate accuracy of $\\epsilon = 10^{-6}$. Start with one single integration slice and work up from there to two, four, eight, and so forth. Save and print out the number of slices, its estimate of the integral, and its estimate of the error on the integral, for each value of the number of slices $N$, until the target accuracy is reached. *(8 pts.; 4 pts. for the code & 4 pts. for the discussion text)*\n",
        "\n",
        "2. Repeat the calculation using the Romberg integration technique. Save and print out the same variables as in (1). *(8 pts.; 4 pts. for the code & 4 pts. for the discussion text)*\n",
        "\n",
        "3. Compare the results from both calculations by creating a plot of error estimates vs. $N$. Annotate your chart completely (include proper axis labels and legend). Describe how the trends for the two techniques compare. *(4 pts.; 2 pts. for the chart & 2 pts. for the discussion text)*"
      ]
    },
    {
      "cell_type": "code",
      "execution_count": 13,
      "metadata": {},
      "outputs": [
        {
          "name": "stdout",
          "output_type": "stream",
          "text": [
            "An accuracy of 1e-6 is reached at the number of slices N = 65536\n"
          ]
        }
      ],
      "source": [
        "from numpy import e, sin, sqrt, linspace, ones\n",
        "import matplotlib as plt\n",
        "\n",
        "a = 0 # integration lower bound\n",
        "b = 1 # integration upper bound\n",
        "N = 1 # intial number of integration slices\n",
        "e = 1e-6 # accuracy bound\n",
        "\n",
        "def f(x):\n",
        "    return (sin(sqrt(100*x)))**2\n",
        "\n",
        "def trapezoid_adapt(f,N,I0):\n",
        "    h = (b-a)/(N)\n",
        "    x = linspace(a,b,N+1) # number of points is number of slices + 1\n",
        "    \n",
        "    weight = ones(N+1) # number of points is number of slices + 1\n",
        "    weight[0] = 0\n",
        "    weight[-1] = 0\n",
        "    weight[::2] = 0 # summing over odd only\n",
        "    \n",
        "    I = 0.5*I0 + h*sum(weight*f(x))\n",
        "    \n",
        "    return I, (1/3)*(I-I0)\n",
        "\n",
        "\n",
        "Ivals, Evals, Nvals = list(), list(), list()\n",
        "I0, E0 = trapezoid_adapt(f,N,0)[0], 1\n",
        "\n",
        "while abs(E0) > e:\n",
        "    \n",
        "    N *= 2\n",
        "    I0, E0 = trapezoid_adapt(f,N,I0)\n",
        "    Ivals.append(I0)\n",
        "    Evals.append(E0)\n",
        "    Nvals.append(N)\n",
        "\n",
        "hz = ones(len(Nvals))*1e-6\n",
        "print(f\"An accuracy of 1e-6 is reached at the number of slices N = {N}\")"
      ]
    },
    {
      "cell_type": "code",
      "execution_count": 25,
      "metadata": {},
      "outputs": [
        {
          "name": "stdout",
          "output_type": "stream",
          "text": [
            "the integral is 0.3252319078064746 \n",
            " the error is 0.05908414108660751\n",
            "the integral is 0.5122828507233318 \n",
            " the error is 0.06235031430561906\n",
            "the integral is 0.4029974484782485 \n",
            " the error is 0.03642846741502777\n",
            "the integral is 0.4301033692947472 \n",
            " the error is 0.009035306938832902\n",
            "the integral is 0.44841466578747 \n",
            " the error is 0.006103765497574279\n",
            "the integral is 0.4539129312153759 \n",
            " the error is 0.001832755142635293\n",
            "the integral is 0.4553485043728021 \n",
            " the error is 0.00047852438580873546\n",
            "the integral is 0.45571126645324106 \n",
            " the error is 0.00012092069347964991\n",
            "the integral is 0.4558021996516641 \n",
            " the error is 3.0311066141005167e-05\n",
            "the integral is 0.4558249481324202 \n",
            " the error is 7.582826918706154e-06\n",
            "the integral is 0.4558306362016461 \n",
            " the error is 1.8960230753021592e-06\n",
            "the integral is 0.4558320582782708 \n",
            " the error is 4.7402554155991555e-07\n"
          ]
        }
      ],
      "source": [
        "from math import sin, sqrt\n",
        "\n",
        "\n",
        "def f(x):\n",
        "    '''the function'''\n",
        "    return sin(10 * sqrt(x))**2\n",
        "\n",
        "\n",
        "def trapesozidal(a, b, N):\n",
        "    h = (b - a) / N\n",
        "    return h * ((0.5 * (f(a) + f(b))) + sum([f(a + i * h) for i in range(1, N)]))\n",
        "\n",
        "\n",
        "N = 1  # step size\n",
        "error = 1\n",
        "\n",
        "while error > 10**-6:  # putting desired accuracy as 10^-6\n",
        "    I_1 = trapesozidal(0, 1, N)\n",
        "    N *= 2\n",
        "    I_2 = trapesozidal(0, 1, N)\n",
        "    error = abs(1/3 * (I_2 - I_1))\n",
        "    print(\"the integral is\", I_2, \"\\n the error is\", error)"
      ]
    },
    {
      "cell_type": "code",
      "execution_count": 9,
      "metadata": {},
      "outputs": [
        {
          "name": "stdout",
          "output_type": "stream",
          "text": [
            "Slice 1: [0.14797948454665205]\n",
            "\n",
            "Slice 2: [0.3252319078064746, 0.38431604889308213]\n",
            "\n",
            "Slice 3: [0.43079757183944845, 0.4659861265171064, 0.47143079835870805]\n",
            "\n",
            "Slice 4: [0.5122828507233315, 0.5394446103512924, 0.5443418426069049, 0.5454991607695747]\n",
            "\n",
            "Slice 5: [0.45902066640404526, 0.4412666049642832, 0.43472140460514924, 0.4329813976527404, 0.43254015152287045]\n",
            "\n",
            "Slice 6: [0.42216668286887116, 0.40988202169047977, 0.40778971613889287, 0.4073622290203809, 0.40726176169241085, 0.40723705163392554]\n",
            "\n",
            "Slice 7: [0.4067588542747065, 0.4016229114099849, 0.4010723040579519, 0.40096567846936554, 0.4009405939574008, 0.40093441490780646, 0.40093287580237885]\n",
            "\n",
            "Slice 8: [0.40299744847824825, 0.4017436465460955, 0.40175169555516954, 0.40176247954718886, 0.40176560425729796, 0.40176641071897917, 0.4017666138925594, 0.4017666647830001]\n",
            "\n",
            "The integration achieves an accuracy of 1e-6 for the number of slices N = 8\n"
          ]
        }
      ],
      "source": [
        "def trapezoid(f,N):\n",
        "    \"\"\"\n",
        "    Regular Trapezoidal Rule\n",
        "    \"\"\"\n",
        "    h = (b-a)/(N)\n",
        "    x = linspace(a,b,N+1) # number of points is number of slices + 1\n",
        "    weight = ones(N+1) # number of points is number of slices + 1\n",
        "    weight[0] = 0.5\n",
        "    weight[-1] = 0.5\n",
        "    \n",
        "    return h*sum(weight*f(x))\n",
        "\n",
        "I1 = trapezoid(f,1)\n",
        "R0 = list()\n",
        "R0.append(I1)\n",
        "error = 1\n",
        "h = (b-a)/(N)\n",
        "\n",
        "def romberg(R0,m_max):\n",
        "    \n",
        "    R = list()\n",
        "    error = 1.0\n",
        "    \n",
        "    for m in range(m_max):\n",
        "        \n",
        "        m = int(m)\n",
        "        if m == 0: \n",
        "            val = trapezoid(f,m_max)\n",
        "            error = (1/3)*(val-R0[0])\n",
        "        else:\n",
        "            num = 1/(4**m-1)*(R[m-1]-R0[m-1])\n",
        "            val = R[m-1]+num\n",
        "            error = num + h**(2*m+2)\n",
        "            \n",
        "        R.append(val)\n",
        "    \n",
        "    return R, error\n",
        "\n",
        "i = 1\n",
        "print(f\"Slice {i}: {R0}\\n\")\n",
        "while abs(error) > e:\n",
        "    \n",
        "    i += 1 \n",
        "    R0, error = romberg(R0,i)\n",
        "    print(f\"Slice {i}: {R0}\\n\")\n",
        "\n",
        "print(f\"The integration achieves an accuracy of 1e-6 for the number of slices N = {i}\")"
      ]
    },
    {
      "cell_type": "code",
      "execution_count": 27,
      "metadata": {},
      "outputs": [
        {
          "name": "stdout",
          "output_type": "stream",
          "text": [
            "\t0.3252319 0.3252319\n",
            "N=2\t I=0.38431604889308213\t eps=0.23633656434643008\n",
            "\t0.5122829 0.5122829 0.5746332\n",
            "N=4\t I=0.5873209727713417\t eps=0.20300492387825952\n",
            "\t0.4029974 0.4029974 0.3665690 0.3526980\n",
            "N=8\t I=0.34897386185747614\t eps=0.2383471109138655\n",
            "\t0.4301034 0.4301034 0.4391387 0.4439767 0.4454255\n",
            "N=16\t I=0.4458037647108326\t eps=0.09682990285335646\n",
            "\t0.4484147 0.4484147 0.4545184 0.4555437 0.4557274 0.4557678\n",
            "N=32\t I=0.4557774922310969\t eps=0.00997372752026432\n",
            "\t0.4539129 0.4539129 0.4557457 0.4558275 0.4558320 0.4558324 0.4558325\n",
            "N=64\t I=0.45583249446137863\t eps=5.500223028170881e-05\n",
            "\t0.4553485 0.4553485 0.4558270 0.4558325 0.4558325 0.4558325 0.4558325 0.4558325\n",
            "N=128\t I=0.4558325323050135\t eps=3.784363489245379e-08\n"
          ]
        }
      ],
      "source": [
        "from __future__ import division, print_function\n",
        "from numpy import empty\n",
        "\n",
        "def f(x):\n",
        "    return sin(sqrt(100*x))**2\n",
        "\n",
        "def resum(f,a,b,N):\n",
        "\t\n",
        "\th = (b - a)/N\n",
        "\t\n",
        "\ts = 0\n",
        "\tfor k in range(1,N//2+1):\n",
        "\t\ts+=f(a + (2*k-1)*h)\n",
        "\t\n",
        "\treturn s*h\n",
        "\t\n",
        "a = 0\n",
        "b = 1\n",
        "\n",
        "\n",
        "I = (b-a)/2*(f(b)+f(a))\n",
        "eps=1\n",
        "N=1\n",
        "\n",
        "R = empty((100,100))\n",
        "R[0,0]=I\n",
        "i=0\n",
        "while eps>1e-6:\n",
        "\n",
        "\tN*=2\n",
        "\ti+=1\n",
        "\t\n",
        "\tI_old = R[i-1,0]\n",
        "\tI_new = I_old/2 + resum(f,a,b,N)\n",
        "\t#eps = abs(I-I_new)/3\n",
        "\t#I = I_new\n",
        "\t\n",
        "\tR[i,0] = I_new\n",
        "\ts = '\\t'\n",
        "\ts += '{0:.7f}'.format(R[i,0])\n",
        "\tfor m in range(i):\n",
        "\t\tR[i,m+1] =R[i,m] + 1/(4**(m+1)-1)*(R[i,m] - R[i-1,m])\n",
        "\t\ts += ' {0:.7f}'.format(R[i,m])\n",
        "\t\n",
        "\tprint(s)\n",
        "\t\n",
        "\teps = abs(R[i,m+1]-R[i-1,m])\n",
        "\tI = R[i,m+1]\n",
        "\t\n",
        "\tprint('N={}\\t I={}\\t eps={}'.format(N,I,eps))"
      ]
    },
    {
      "cell_type": "code",
      "execution_count": 14,
      "metadata": {},
      "outputs": [
        {
          "ename": "AttributeError",
          "evalue": "module 'matplotlib' has no attribute 'figure'",
          "output_type": "error",
          "traceback": [
            "\u001b[0;31m---------------------------------------------------------------------------\u001b[0m",
            "\u001b[0;31mAttributeError\u001b[0m                            Traceback (most recent call last)",
            "\u001b[1;32m/Users/lovelyandeo/Documents/GitHub/AP155/lab_assignment_module1.ipynb Cell 11\u001b[0m in \u001b[0;36m<cell line: 1>\u001b[0;34m()\u001b[0m\n\u001b[0;32m----> <a href='vscode-notebook-cell:/Users/lovelyandeo/Documents/GitHub/AP155/lab_assignment_module1.ipynb#X33sZmlsZQ%3D%3D?line=0'>1</a>\u001b[0m plt\u001b[39m.\u001b[39;49mfigure(figsize\u001b[39m=\u001b[39m(\u001b[39m7\u001b[39m,\u001b[39m4\u001b[39m))\n\u001b[1;32m      <a href='vscode-notebook-cell:/Users/lovelyandeo/Documents/GitHub/AP155/lab_assignment_module1.ipynb#X33sZmlsZQ%3D%3D?line=1'>2</a>\u001b[0m plt\u001b[39m.\u001b[39mtitle(\u001b[39m\"\u001b[39m\u001b[39mComparison of the tecniques\u001b[39m\u001b[39m\"\u001b[39m)\n\u001b[1;32m      <a href='vscode-notebook-cell:/Users/lovelyandeo/Documents/GitHub/AP155/lab_assignment_module1.ipynb#X33sZmlsZQ%3D%3D?line=2'>3</a>\u001b[0m plt\u001b[39m.\u001b[39mylabel(\u001b[39m\"\u001b[39m\u001b[39mError estimate |err|\u001b[39m\u001b[39m\"\u001b[39m)\n",
            "File \u001b[0;32m~/opt/anaconda3/lib/python3.9/site-packages/matplotlib/_api/__init__.py:222\u001b[0m, in \u001b[0;36mcaching_module_getattr.<locals>.__getattr__\u001b[0;34m(name)\u001b[0m\n\u001b[1;32m    220\u001b[0m \u001b[39mif\u001b[39;00m name \u001b[39min\u001b[39;00m props:\n\u001b[1;32m    221\u001b[0m     \u001b[39mreturn\u001b[39;00m props[name]\u001b[39m.\u001b[39m\u001b[39m__get__\u001b[39m(instance)\n\u001b[0;32m--> 222\u001b[0m \u001b[39mraise\u001b[39;00m \u001b[39mAttributeError\u001b[39;00m(\n\u001b[1;32m    223\u001b[0m     \u001b[39mf\u001b[39m\u001b[39m\"\u001b[39m\u001b[39mmodule \u001b[39m\u001b[39m{\u001b[39;00m\u001b[39mcls\u001b[39m\u001b[39m.\u001b[39m\u001b[39m__module__\u001b[39m\u001b[39m!r}\u001b[39;00m\u001b[39m has no attribute \u001b[39m\u001b[39m{\u001b[39;00mname\u001b[39m!r}\u001b[39;00m\u001b[39m\"\u001b[39m)\n",
            "\u001b[0;31mAttributeError\u001b[0m: module 'matplotlib' has no attribute 'figure'"
          ]
        }
      ],
      "source": [
        "\n",
        "plt.title(\"Comparison of the tecniques\")\n",
        "plt.ylabel(\"Error estimate |err|\")\n",
        "plt.xlabel(\"Number of slices, N\")\n",
        "plt.plot(Nvals,Evals,'b--')\n",
        "plt.plot(Nvals,hz,'k')\n",
        "plt.xlim(0,10^4)\n",
        "plt.show()"
      ]
    },
    {
      "cell_type": "markdown",
      "metadata": {},
      "source": [
        "make for loop that computes N=1, then it has to loop by 2 until it reaches the best approximation of 10^-6 (4096 and dulo)"
      ]
    },
    {
      "cell_type": "markdown",
      "metadata": {
        "id": "m2a6sg90R-NX"
      },
      "source": [
        "### PROBLEM 3 (10 pts.)\n",
        "\n",
        "**Integration using Gaussian quadrature**\n",
        "\n",
        "Calculate the integral from Problem 1 using the Gaussian quadrature method: $ 2x^4 + 3x^2 + 4x + 5$ from $x=0$ to $x=5$.\n",
        "\n",
        "1. Define the function $\\tt gaussxw$ from Appendix E of the Newman text (and run the cell). *(2 pts.)*\n",
        "\n",
        "2. Calculate the integral using the $\\tt gaussxw$ function in (1) and number of slices $N = 3$. Describe each step in the calculation clearly and concisely. *(8 pts.; 4 pts. for the code & 4 pts. for the discussion text)*"
      ]
    },
    {
      "cell_type": "markdown",
      "metadata": {},
      "source": [
        "In order to define the function $\\tt gaussxw$, the file gaussxw.py was first loaded in the same folder as this notebook."
      ]
    },
    {
      "cell_type": "code",
      "execution_count": 48,
      "metadata": {
        "id": "YO_PDJ4VIVs5"
      },
      "outputs": [],
      "source": [
        "# Define gaussxw\n",
        "\n",
        "from gaussxw import gaussxw"
      ]
    },
    {
      "cell_type": "markdown",
      "metadata": {},
      "source": [
        "The integrand was then defined as well as the bounds and number of slices. Next, the sample points and weight were calculated and mapped to the general domain using the formula given in the book. Finally, the integration was perfomed."
      ]
    },
    {
      "cell_type": "code",
      "execution_count": 47,
      "metadata": {},
      "outputs": [
        {
          "name": "stdout",
          "output_type": "stream",
          "text": [
            "1450.000000000002\n"
          ]
        }
      ],
      "source": [
        "def f(x):\n",
        "    return 2*x**4 + 3*x**2 + 4*x + 5\n",
        "    \n",
        "a = 0.0 # Lower bound\n",
        "b = 5.0 # Upper bound\n",
        "N = 3 # Number of slices\n",
        "\n",
        "# Calculating the position and the weight, and mapping them to the required domain\n",
        "x,w = gaussxw(N)\n",
        "x_p = 0.5*(b-a)*x + 0.5*(b+a)\n",
        "w_p = 0.5*(b-a)*w\n",
        "\n",
        "# Performing the integration\n",
        "s = 0.0\n",
        "for i in range(N):\n",
        "    s += w_p[i]*f(x_p[i])\n",
        "\n",
        "print(s)"
      ]
    },
    {
      "cell_type": "markdown",
      "metadata": {},
      "source": [
        "There's also a faster way to integrate the given, which is using the scipy **integrate.quadrature()** method. For the sake of comparison, the integral was also evaluated using that method."
      ]
    },
    {
      "cell_type": "code",
      "execution_count": 6,
      "metadata": {},
      "outputs": [
        {
          "name": "stdout",
          "output_type": "stream",
          "text": [
            "(1449.9999999999998, 0.0)\n"
          ]
        },
        {
          "data": {
            "text/plain": [
              "tuple"
            ]
          },
          "execution_count": 6,
          "metadata": {},
          "output_type": "execute_result"
        }
      ],
      "source": [
        "from scipy import integrate\n",
        "\n",
        "f = lambda x: 2*x**4 + 3*x**2 + 4*x + 5 \n",
        "j = integrate.quadrature(f, 0.0, 5.0) # Calling the method\n",
        "print(j)"
      ]
    },
    {
      "cell_type": "code",
      "execution_count": 46,
      "metadata": {},
      "outputs": [
        {
          "name": "stdout",
          "output_type": "stream",
          "text": [
            "1.3322676295501878e-13\n",
            "1.1102230246251565e-14\n"
          ]
        }
      ],
      "source": [
        "# Calculate the percent error of both methods\n",
        "\n",
        "I_exact = 1450\n",
        "gauss = np.abs(1- s/I_exact)*100\n",
        "sci = np.abs(1-j[0]/I_exact)*100 # We use index since j is a tuple\n",
        "\n",
        "print(gauss)\n",
        "print(sci)"
      ]
    },
    {
      "cell_type": "markdown",
      "metadata": {},
      "source": [
        "From the resulting percent errors, the scipy **integrate.quadrature()** method was shown to be a bit more accurate. Although the difference are just very small."
      ]
    },
    {
      "cell_type": "markdown",
      "metadata": {
        "id": "HceOjNu-VfN9"
      },
      "source": [
        "### PROBLEM 4 (30 pts.)\n",
        "\n",
        "**Physics Application: Anharmonic Oscillator**\n",
        "\n",
        "_Refer to Exercise 5.10 of the Newman text._ Consider an anharmonic oscillator with potential $V(x)$ symmetric about $x = 0$. Let us set our anharmonic oscillator going with amplitude $a$. That is, at $t = 0$ we release it from rest at position $x = a$ and it swings back towards the origin. Then at $t = 0$ we have $dx/dt = 0$ and the equation for its total energy becomes $E = V(a)$, i.e., the total energy of the particle is given in terms of the amplitude.\n",
        "\n",
        "When the particle reaches the origin for the first time, it has gone through one quarter of a period of the oscillator. The period $T$ is given by: $$ T = \\sqrt{8m} \\int_0^a \\frac{dx}{\\sqrt{V(a)-V(x)}}. $$\n",
        "\n",
        "1. Suppose the potential is $V(x) = x^4$ and the mass of the particle is $m = 1$. Write a Python function that calculates the period of the oscillator for given amplitude a using Gaussian quadrature with $N = 20$ points. Describe each step clearly and concisely. *(16 pts.; 8 pts. for the code & 8 pts. for the discussion text)*\n",
        "\n",
        "2. Use your function to make a graph of the period for amplitudes ranging from $a = 0$ to $a = 2$. Describe the behavior you find and explain these results clearly and concisely. *(14 pts.; 7 pts. for the plot & 7 pts. for the discussion text)*"
      ]
    },
    {
      "cell_type": "code",
      "execution_count": 23,
      "metadata": {},
      "outputs": [
        {
          "name": "stderr",
          "output_type": "stream",
          "text": [
            "/var/folders/nd/l3h_t2k14fqdnbr6dbvvblth0000gn/T/ipykernel_64753/3983429147.py:24: RuntimeWarning: divide by zero encountered in true_divide\n",
            "  y = 1/sqrt(E-V(xp))\n",
            "/var/folders/nd/l3h_t2k14fqdnbr6dbvvblth0000gn/T/ipykernel_64753/3983429147.py:25: RuntimeWarning: invalid value encountered in multiply\n",
            "  s = sum(y*wp)\n"
          ]
        },
        {
          "data": {
            "text/plain": [
              "Text(0, 0.5, 'period')"
            ]
          },
          "execution_count": 23,
          "metadata": {},
          "output_type": "execute_result"
        },
        {
          "data": {
            "image/png": "[encoded data removed]",
            "text/plain": [
              "<Figure size 432x288 with 1 Axes>"
            ]
          },
          "metadata": {
            "needs_background": "light"
          },
          "output_type": "display_data"
        }
      ],
      "source": [
        "from __future__ import division, print_function\n",
        "\n",
        "from os import sys\n",
        "from numpy import linspace\n",
        "from pylab import *\n",
        "sys.path.append('cpresources')\n",
        "from gaussxw import gaussxw\n",
        "\n",
        "N = 100\n",
        "m = 1\n",
        "V = lambda x: x**4\n",
        "\n",
        "x,w = gaussxw(N)\n",
        "\n",
        "\n",
        "def T(a_):\n",
        "\t\n",
        "\ta = 0\n",
        "\tb = a_\n",
        "\txp = 0.5*(b-a)*x + 0.5*(b+a)\n",
        "\twp = 0.5*(b-a)*w\n",
        "\tE = V(a_)\n",
        "\t\n",
        "\ty = 1/sqrt(E-V(xp))\n",
        "\ts = sum(y*wp)\n",
        "\n",
        "\treturn s*sqrt(8*m)\n",
        "\t\n",
        "a = linspace(0,2,100)\n",
        "periods = [T(ai) for ai in a]\n",
        "\n",
        "plot(a,periods)\n",
        "xlabel('initial position')\n",
        "ylabel('period')"
      ]
    },
    {
      "cell_type": "markdown",
      "metadata": {},
      "source": []
    },
    {
      "cell_type": "markdown",
      "metadata": {
        "id": "BY5x-mZsYoqG"
      },
      "source": [
        "### PROBLEM 5 (20 pts.)\n",
        "\n",
        "**Differentiation using central difference**\n",
        "\n",
        "1. Calculate the derivative of the function $1 + \\frac{1}{2} \\tanh 2x$ in the range $-2 \\le x \\le 2$ using central difference. Describe each step of the calculation clearly and concisely. *(10 pts.; 5 pts. for the code & 5 pts. for the discussion text)*\n",
        "\n",
        "2. Calculate an analytic formula for the derivative and make a graph with your numerical result and the analytic answer on the same plot. Plot the exact answer as lines and the numerical one as dots. Describe how the two results compare. *(10 pts.; 5 pts. for the code & 5 pts. for the discussion text)*"
      ]
    },
    {
      "cell_type": "code",
      "execution_count": 24,
      "metadata": {
        "id": "ZWXWJyYdLS5G"
      },
      "outputs": [
        {
          "data": {
            "image/png": "[encoded data removed]",
            "text/plain": [
              "<Figure size 432x288 with 1 Axes>"
            ]
          },
          "metadata": {
            "needs_background": "light"
          },
          "output_type": "display_data"
        }
      ],
      "source": [
        "from numpy import linspace, tanh, cosh\n",
        "from pylab import plot, show\n",
        "\n",
        "h = 10**-5\n",
        "x_initial = -2\n",
        "x_final = 2\n",
        "\n",
        "x = linspace(x_initial, x_final, int((x_final - x_initial) / h), endpoint=True)\n",
        "y = 1 + 0.5 * tanh(2 * x)\n",
        "\n",
        "analytic_equation = 1 / cosh(2 * x)**2\n",
        "\n",
        "derivative = []\n",
        "for i in range(1, len(x) - 1):\n",
        "    derivative.append((y[i+1] - y[i-1]) / (2 * h))\n",
        "\n",
        "plot(x, analytic_equation, \"go\")\n",
        "plot(x[1:-1], derivative, \"b--\")\n",
        "\n",
        "show()\n"
      ]
    }
  ],
  "metadata": {
    "colab": {
      "provenance": []
    },
    "kernelspec": {
      "display_name": "Python 3.9.12 ('base')",
      "language": "python",
      "name": "python3"
    },
    "language_info": {
      "codemirror_mode": {
        "name": "ipython",
        "version": 3
      },
      "file_extension": ".py",
      "mimetype": "text/x-python",
      "name": "python",
      "nbconvert_exporter": "python",
      "pygments_lexer": "ipython3",
      "version": "3.9.12"
    },
    "vscode": {
      "interpreter": {
        "hash": "875bc8decea8e8a28e9af2723dd286dee754a23a7f8573f7363ab2cfac0674ef"
      }
    }
  },
  "nbformat": 4,
  "nbformat_minor": 0
}
