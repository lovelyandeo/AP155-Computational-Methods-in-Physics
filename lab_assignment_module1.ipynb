{
  "cells": [
    {
      "cell_type": "markdown",
      "metadata": {
        "id": "G0BcK0H_G1Iu"
      },
      "source": [
        "# **AP155 Lab Assignment** \n",
        "## Module 1: Integrals and Derivatives\n",
        "\n",
        "_Instructions_: Answer each problem as completely as you can. Discuss **all** your answers as clearly and concisely as possible. \n",
        "\n",
        "_Scoring Criteria_: 50% - *correctness of code*; 50% - *discussion of the code and results*. Maximum score is **100 points** (Problems 1 to 5 are worth 20, 20, 10, 30, and 20 points, respectively).\n",
        "\n",
        "_Due Date_: **5PM of November 3 (Thu)**\n",
        "\n"
      ]
    },
    {
      "cell_type": "markdown",
      "metadata": {
        "id": "PeHZ9kP8JaVR"
      },
      "source": [
        "### Student Information \n",
        "\n",
        "_Full Name (Last Name, First Name)_: Andeo, Lovely \\\n",
        "_Student No._: 2020-05405\\\n",
        "_Section_: HX4"
      ]
    },
    {
      "cell_type": "markdown",
      "metadata": {
        "id": "Hc183co-J4eI"
      },
      "source": [
        "### Submission Information\n",
        "\n",
        "_Date and Time Submitted (most recent upload)_: \n",
        "\n",
        "**HONOR PLEDGE** I affirm that I have upheld the highest principles of honesty and integrity in my academic work and that this lab assignment is my own work.\n",
        "\n",
        "**Sign here with your full name: Lovely L. Andeo** "
      ]
    },
    {
      "cell_type": "markdown",
      "metadata": {
        "id": "X1UGsRpW-eQs"
      },
      "source": [
        "### Grading Information (c/o Lab Instructor)\n",
        "\n",
        "TOTAL SCORE: **XX**/100\n",
        "\n",
        "Score breakdown:\n",
        "* Problem 1 - XX/20\n",
        "* Problem 2 - XX/20\n",
        "* Problem 3 - XX/10\n",
        "* Problem 4 - XX/30\n",
        "* Problem 5 - XX/20\n",
        "\n",
        "_Date and Time Scored (MM/DD/YYYY HH:MM AM/PM):_ "
      ]
    },
    {
      "cell_type": "markdown",
      "metadata": {
        "id": "LxWuqiCFMsEh"
      },
      "source": [
        "### PROBLEM 1 (20 pts.) \n",
        "**Integration using the trapezoidal rule and Simpson's rule**\n",
        "\n",
        "Calculate the integral of the function $ 2x^4 + 3x^2 + 4x + 5$ from $x=0$ to $x=5$.\n",
        "\n",
        "1. Do the numerical calculation using the trapezoidal rule with 10, 100, and 1,000 slices. Describe each step of the calculation clearly and concisely. *(8 pts.; 4 pts. for the code & 4 pts. for the discussion text)*\n",
        "\n",
        "2. What are the percentage errors of your answers in (1)? *(2 pts.)*\n",
        "\n",
        "3. Repeat the calculation using Simpson's rule with 10, 100, and 1,000 slices. Describe each step of the calculation clearly and concisely. *(8 pts.;  4 pts. for the code & 4 pts. for the discussion text)*\n",
        "\n",
        "4. What are the percentage errors of your answers in (3)? How do they compare with the results from (1) for the same number of slices? *(2 pts.)*"
      ]
    },
    {
      "cell_type": "markdown",
      "metadata": {},
      "source": [
        "**Solution**"
      ]
    },
    {
      "cell_type": "markdown",
      "metadata": {},
      "source": [
        "First, the necessary library is imported then the function and the integration limits are defined."
      ]
    },
    {
      "cell_type": "code",
      "execution_count": 1,
      "metadata": {},
      "outputs": [],
      "source": [
        "import numpy as np\n",
        "\n",
        "# This is the function we want to integrate\n",
        "def f(x):\n",
        "    return 2*x**4 + 3*x**2 +4*x + 5\n",
        "# Defining the integration limits\n",
        "a = 0.0 \n",
        "b = 5.0 "
      ]
    },
    {
      "cell_type": "markdown",
      "metadata": {},
      "source": [
        "For the Trapezoidal rule, the formulas given in the book are followed and used in the algorithm. The necessary variable are defined and a $\\tt for$ loop is used to evaluate the integral for different values of $N$."
      ]
    },
    {
      "cell_type": "code",
      "execution_count": 2,
      "metadata": {},
      "outputs": [
        {
          "name": "stdout",
          "output_type": "stream",
          "text": [
            "N = 10 , Estimate= 1471.4375 , Percent error = 1.4784482758620765\n",
            "N = 100 , Estimate= 1450.2145812500003 , Percent error = 0.014798706896579361\n",
            "N = 1000 , Estimate= 1450.0021458331234 , Percent error = 0.00014798849126140823\n"
          ]
        }
      ],
      "source": [
        "# Implementing the trapezoidal rule\n",
        "def integ_trap(N, a, b):\n",
        "  h= (b-a)/N\n",
        "  \n",
        "  s = 0.5*f(a) + 0.5*f(b) # Initial value\n",
        "  for k in range(1,N):\n",
        "      s += f(a+k*h)\n",
        "  s = s*h\n",
        "  return(s)\n",
        "\n",
        "# Getting estimated integrals for different values of N\n",
        "N_arr = np.array([10, 100, 1000]) \n",
        "pct_err = np.zeros(len(N_arr))\n",
        "s_arr = np.zeros(len(N_arr))\n",
        "\n",
        "# Defining the xact value of the integral, computed analytically\n",
        "I_exact = 1450.0 \n",
        "\n",
        "# Applying for loop to evaluate the integral\n",
        "for i in np.arange(len(N_arr)):\n",
        "  s_arr[i] = integ_trap(N_arr[i], a, b)\n",
        "  \n",
        "  # Computing for the percent error of the resulting values\n",
        "  pct_err[i] = np.abs(1- s_arr[i]/I_exact)*100\n",
        "  \n",
        "  print(\"N =\",N_arr[i], \", Estimate=\",s_arr[i], \", Percent error =\",pct_err[i])"
      ]
    },
    {
      "cell_type": "markdown",
      "metadata": {},
      "source": [
        "As we can see from the results using the Trapezoidal rule: at $ N = 10 $, the percent error is $ 1.4784482758620765 $, at $ N = 100 $, it's $ 0.014798706896579361 $, and at $ N = 1000 $, it's $ 0.00014798849126140823 $. Hence, the larger the number of slices $N$), the smaller the percent error becomes, giving us a better approximation of the integral or the area under the curve."
      ]
    },
    {
      "cell_type": "markdown",
      "metadata": {},
      "source": [
        "For the Simpson's rule, the formulas given in the book are also followed and used in the algorithm. Firstly, the integration is defined and wis looped over the odd and even values of $k$. Then another $\\tt for$ loop used to evaluated the integral for different values of $N$."
      ]
    },
    {
      "cell_type": "code",
      "execution_count": 3,
      "metadata": {},
      "outputs": [
        {
          "name": "stdout",
          "output_type": "stream",
          "text": [
            "N = 10 , Estimate= 1450.0833333333333 , Percent error = 0.005747126436772554\n",
            "N = 100 , Estimate= 1450.0000083333337 , Percent error = 5.747126552435589e-07\n",
            "N = 1000 , Estimate= 1450.0000000008342 , Percent error = 5.753175713607561e-11\n"
          ]
        }
      ],
      "source": [
        "# Implementing the Simpson's rule\n",
        "def integ_simp(N, a, b):\n",
        "  h = (b-a)/N\n",
        "  s = f(a) + f(b)\n",
        "  # Looping over the odd values of k\n",
        "  for k in range(1,N,2): \n",
        "      s += 4*f(a+k*h)\n",
        "  # Looping over the even values of k\n",
        "  for k in range(2,N,2): \n",
        "      s += 2*f(a+k*h)\n",
        "  s = s*(1./3)*h\n",
        "  return(s)\n",
        "\n",
        "# Getting estimated integrals for different values of N\n",
        "N_arr = np.array([10, 100, 1000])\n",
        "s_arr = np.zeros(len(N_arr))\n",
        "pct_err = np.zeros(len(N_arr))\n",
        "I_exact = 1450.0\n",
        "\n",
        "# Applying for loop to evaluate the integral\n",
        "for i in np.arange(len(N_arr)):\n",
        "  s_arr[i] = integ_simp(N_arr[i], a, b)\n",
        "  pct_err[i] = np.abs(1- s_arr[i]/I_exact)*100\n",
        "  \n",
        "  # Printing the results\n",
        "  print(\"N =\",N_arr[i], \", Estimate=\",s_arr[i], \", Percent error =\",pct_err[i])\n"
      ]
    },
    {
      "cell_type": "markdown",
      "metadata": {},
      "source": [
        "From the results using the Simpson's rule: at $ N = 10 $, the percent error is $ 0.005747126436772554 $, at $ N = 100 $, it's $ 5.747126552435589 \\times 10^{-07} $, and at $ N = 1000 $, it's $ 5.753175713607561 \\times 10^{-11} $. Here, the larger the number of slices ($N$), the smaller the percent error also becomes.\n",
        "\n",
        "But comparing this to that of the Trapezoidal rule, Simpson's rule returned a better approximation of the integral with the same number of slices, proving its superiority in terms of accuracy over smaller values of $N$ compared to the Trapezoidal rule."
      ]
    },
    {
      "cell_type": "markdown",
      "metadata": {
        "id": "kBX9EyMLOnXj"
      },
      "source": [
        "### PROBLEM 2 (20 pts.)\n",
        "\n",
        "**Integration using the adaptive trapezoidal rule method and Romberg integration**\n",
        "\n",
        "Calculate the integral $ I = \\int_0^1 \\sin^2 \\sqrt{100x} dx $.\n",
        "\n",
        "1. Do the numerical calculation using the adaptive trapezoidal rule method to an approximate accuracy of $\\epsilon = 10^{-6}$. Start with one single integration slice and work up from there to two, four, eight, and so forth. Save and print out the number of slices, its estimate of the integral, and its estimate of the error on the integral, for each value of the number of slices $N$, until the target accuracy is reached. *(8 pts.; 4 pts. for the code & 4 pts. for the discussion text)*\n",
        "\n",
        "2. Repeat the calculation using the Romberg integration technique. Save and print out the same variables as in (1). *(8 pts.; 4 pts. for the code & 4 pts. for the discussion text)*\n",
        "\n",
        "3. Compare the results from both calculations by creating a plot of error estimates vs. $N$. Annotate your chart completely (include proper axis labels and legend). Describe how the trends for the two techniques compare. *(4 pts.; 2 pts. for the chart & 2 pts. for the discussion text)*"
      ]
    },
    {
      "cell_type": "markdown",
      "metadata": {},
      "source": [
        "**Solution**"
      ]
    },
    {
      "cell_type": "markdown",
      "metadata": {},
      "source": [
        "To solve the integral using the Adaptive Trapezoidal rule, the function was defined and the integration bounds were noted. The formulas in the book are then used in the algorithm building up from one integration slice. The integration is then performed using a $\\tt while$ loop. The error is calculated, and for better data manipulation, the results are converted in dataframe."
      ]
    },
    {
      "cell_type": "code",
      "execution_count": 123,
      "metadata": {},
      "outputs": [
        {
          "name": "stdout",
          "output_type": "stream",
          "text": [
            "       N  Integral   Atrap_error\n",
            "0      2  0.325232  5.908414e-02\n",
            "1      4  0.512283  6.235031e-02\n",
            "2      8  0.402997  3.642847e-02\n",
            "3     16  0.430103  9.035307e-03\n",
            "4     32  0.448415  6.103765e-03\n",
            "5     64  0.453913  1.832755e-03\n",
            "6    128  0.455349  4.785244e-04\n",
            "7    256  0.455711  1.209207e-04\n",
            "8    512  0.455802  3.031107e-05\n",
            "9   1024  0.455825  7.582827e-06\n",
            "10  2048  0.455831  1.896023e-06\n",
            "11  4096  0.455832  4.740255e-07\n"
          ]
        }
      ],
      "source": [
        "# Importing the necessary libraries and functions\n",
        "from math import sin, sqrt\n",
        "import numpy as np\n",
        "import pandas as pd\n",
        "\n",
        "# Defining the function\n",
        "def f(x):\n",
        "    return sin(10 * sqrt(x))**2\n",
        "\n",
        "a = 0 # Lower bound\n",
        "b = 1 # Upper bound\n",
        "\n",
        "# Applying the adaptive trapezoidal rule formula\n",
        "def atrap(a, b, N):\n",
        "    h = (b - a) / N\n",
        "    return h * ((0.5 * (f(a) + f(b))) + sum([f(a + i * h) for i in range(1, N)]))\n",
        "\n",
        "# Step size and error\n",
        "N = 1 \n",
        "err_atrap = 1\n",
        "\n",
        "atrap_out = []\n",
        "# Performing the integration\n",
        "while err_atrap > 10**-6:  \n",
        "    I_0 = atrap(0, 1, N)\n",
        "    N *= 2\n",
        "    I_atrap = atrap(0, 1, N)\n",
        "\n",
        "    # Calculating the error\n",
        "    err_atrap = abs(1/3 * (I_atrap - I_0))\n",
        "\n",
        "    # Storing the values in a dataframe\n",
        "    col = {'N': N,\n",
        "           'Integral':I_atrap,\n",
        "           'Atrap_error': err_atrap}\n",
        "    atrap_out.append(col)\n",
        "    df1 = pd.DataFrame(atrap_out)\n",
        "print(df1)"
      ]
    },
    {
      "cell_type": "markdown",
      "metadata": {},
      "source": [
        "Next is solving the integral using Romberg Integration. Since, it's essentially just an 'addition' to the trapezoidal rule, the trapezoidal rule is then first calculated which allows for higher-order estimations to be done. The formulas in the book are then followed and ran inside the $\\tt while$ and $\\tt while$ loops to evaluate the integral. Just like above, the resulting values are also stored in a dataframe."
      ]
    },
    {
      "cell_type": "code",
      "execution_count": 95,
      "metadata": {},
      "outputs": [
        {
          "name": "stdout",
          "output_type": "stream",
          "text": [
            "    N  Integral     Rom_error\n",
            "0   2  0.384316  7.877885e-02\n",
            "1   4  0.587321  1.353366e-02\n",
            "2   8  0.348974  3.783287e-03\n",
            "3  16  0.445804  3.797251e-04\n",
            "4  32  0.455777  9.749489e-06\n",
            "5  64  0.455832  1.343156e-08\n"
          ]
        }
      ],
      "source": [
        "from numpy import empty\n",
        "\n",
        "# Performing the trapezoidal rule first\n",
        "def trap(a,b,N):\n",
        "\th = (b - a)/N\n",
        "\ts = 0\n",
        "\tfor k in range(1,N//2+1):\n",
        "\t\ts+=f(a + (2*k-1)*h)\n",
        "\treturn s*h\n",
        "\n",
        "# Creating an array\n",
        "R = empty((100,100))\n",
        "\n",
        "# Step size and intial index\n",
        "N = 1\n",
        "i = 0\n",
        "\n",
        "rom_out = []\n",
        "# Performing the Romberg integration\n",
        "while err_rom>1e-6:\n",
        "\tN *= 2\n",
        "\ti += 1\n",
        "\tm += 1\n",
        "\tI_old = R[1,1]\n",
        "\tI_new = I_old + trap(a,b,N)\n",
        "\t\n",
        "\tR[i,m] = I_new\n",
        "\tfor m in range(i):\n",
        "\t\tR[i,m+1] =R[i,m] + 1/(4**(m+1)-1)*(R[i,m] - R[i-1,m])\n",
        "\t\n",
        "\t# Calculating the error\n",
        "\terr_rom = (1/((4**(m+1)) - 1))*abs(R[i,m+1]-R[i-1,m])\n",
        "\tI_rom = R[i,m+1]\n",
        "\n",
        "\t# Storing the values in a dataframe\n",
        "\tcol = {'N': N,\n",
        "           'Integral': I_rom,\n",
        "           'Rom_error': err_rom}\n",
        "\trom_out.append(col)\n",
        "\tdf2 = pd.DataFrame(rom_out)\n",
        "print(df2)\n"
      ]
    },
    {
      "cell_type": "markdown",
      "metadata": {},
      "source": [
        "The values from both methods are then plotted (error estimates vs. $N$) using matplotlib to observe their individual trend. The plot is also customized accordingly, for better visualization."
      ]
    },
    {
      "cell_type": "code",
      "execution_count": 81,
      "metadata": {},
      "outputs": [
        {
          "data": {
            "image/png": "[encoded data removed]",
            "text/plain": [
              "<Figure size 432x288 with 1 Axes>"
            ]
          },
          "metadata": {
            "needs_background": "light"
          },
          "output_type": "display_data"
        }
      ],
      "source": [
        "# Importing the necessary libraries for plotting\n",
        "import matplotlib.pyplot as plt\n",
        "\n",
        "# Plotting the dataframes\n",
        "plt.plot(df1.N, df1.Atrap_error, color='steelblue', label='Adaptive Trapezoidal Rule (ATR)', linewidth=3, marker='o', alpha=0.8) \n",
        "plt.plot(df2.N, df2.Rom_error, color='brown', label='Romberg Integration (RI)', linewidth=3, linestyle = 'dashed', marker='s', alpha=0.8) \n",
        "\n",
        "# Plotting the error for comparison\n",
        "plt.axhline([10**-6], color='gray', linewidth=3, linestyle = 'dashed', alpha=0.8) \n",
        "\n",
        "# Setting the axes labels\n",
        "plt.xlabel('No. of Slices, N') \n",
        "plt.ylabel('Error Estimate |err|') \n",
        "\n",
        "# Showing the legend\n",
        "plt.legend() \n",
        "\n",
        "# Scaling the axes\n",
        "plt.xscale('log')\n",
        "plt.yscale('log')\n",
        "\n",
        "# Displaying the plot\n",
        "plt.show()"
      ]
    },
    {
      "cell_type": "markdown",
      "metadata": {},
      "source": [
        "As we can see from the plot, the values coincide at the beginning. But as they progress, the plot evidently shows that Romberg integration reached the required accuracy much faster that the Trapezoidal rule and with less number of slices $N$."
      ]
    },
    {
      "cell_type": "markdown",
      "metadata": {
        "id": "m2a6sg90R-NX"
      },
      "source": [
        "### PROBLEM 3 (10 pts.)\n",
        "\n",
        "**Integration using Gaussian quadrature**\n",
        "\n",
        "Calculate the integral from Problem 1 using the Gaussian quadrature method: $ 2x^4 + 3x^2 + 4x + 5$ from $x=0$ to $x=5$.\n",
        "\n",
        "1. Define the function $\\tt gaussxw$ from Appendix E of the Newman text (and run the cell). *(2 pts.)*\n",
        "\n",
        "2. Calculate the integral using the $\\tt gaussxw$ function in (1) and number of slices $N = 3$. Describe each step in the calculation clearly and concisely. *(8 pts.; 4 pts. for the code & 4 pts. for the discussion text)*"
      ]
    },
    {
      "cell_type": "markdown",
      "metadata": {},
      "source": [
        "**Solution**"
      ]
    },
    {
      "cell_type": "markdown",
      "metadata": {},
      "source": [
        "In order to define the function $\\tt gaussxw$, the file gaussxw.py is first loaded in the same folder as this notebook."
      ]
    },
    {
      "cell_type": "code",
      "execution_count": 55,
      "metadata": {
        "id": "YO_PDJ4VIVs5"
      },
      "outputs": [],
      "source": [
        "# Define gaussxw\n",
        "from gaussxw import gaussxw"
      ]
    },
    {
      "cell_type": "markdown",
      "metadata": {},
      "source": [
        "The integrand is then defined as well as the bounds and number of slices. Next, the sample points and weight are calculated and mapped to the general domain using the formula given in the book. Finally, the integration is perfomed."
      ]
    },
    {
      "cell_type": "code",
      "execution_count": 56,
      "metadata": {},
      "outputs": [
        {
          "name": "stdout",
          "output_type": "stream",
          "text": [
            "1450.000000000002\n"
          ]
        }
      ],
      "source": [
        "# Defining the function to be evaluated\n",
        "def f(x):\n",
        "    return 2*x**4 + 3*x**2 + 4*x + 5\n",
        "    \n",
        "a = 0.0 # Lower bound\n",
        "b = 5.0 # Upper bound\n",
        "N = 3 # Number of slices\n",
        "\n",
        "# Calculating the position and the weight, and mapping them to the required domain\n",
        "x,w = gaussxw(N)\n",
        "x_p = 0.5*(b-a)*x + 0.5*(b+a)\n",
        "w_p = 0.5*(b-a)*w\n",
        "\n",
        "# Performing the integration\n",
        "s = 0.0\n",
        "for i in range(N):\n",
        "    s += w_p[i]*f(x_p[i])\n",
        "\n",
        "print(s)"
      ]
    },
    {
      "cell_type": "markdown",
      "metadata": {},
      "source": [
        "The resulting value of the integral is $1450.000000000002$, which is remarkably accurate given the small number of sample point.\n",
        "\n",
        "Additional: There's also a faster way to integrate the given, which is using the scipy **integrate.quadrature()** method. Just for the sake of comparison, the integral is also evaluated using that method and their percent errors are computed to see the difference."
      ]
    },
    {
      "cell_type": "code",
      "execution_count": 57,
      "metadata": {},
      "outputs": [
        {
          "name": "stdout",
          "output_type": "stream",
          "text": [
            "(1449.9999999999998, 0.0)\n",
            "Guassian error:  1.3322676295501878e-13\n",
            "Scipy error:  1.1102230246251565e-14\n"
          ]
        }
      ],
      "source": [
        "# Using the other method\n",
        "from scipy import integrate\n",
        "\n",
        "f = lambda x: 2*x**4 + 3*x**2 + 4*x + 5 \n",
        "j = integrate.quadrature(f, 0.0, 5.0) # Calling the method\n",
        "print(j)\n",
        "\n",
        "# Calculating the percent error of both methods\n",
        "I_exact = 1450\n",
        "gauss = np.abs(1- s/I_exact)*100\n",
        "sci = np.abs(1-j[0]/I_exact)*100 # We use index for j since it's a tuple\n",
        "\n",
        "print(\"Guassian error: \", gauss)\n",
        "print(\"Scipy error: \", sci)"
      ]
    },
    {
      "cell_type": "markdown",
      "metadata": {},
      "source": [
        "From the resulting percent errors, the scipy $\\tt integrate.quadrature()$ method is shown to be a bit more accurate. Although the difference are just very small."
      ]
    },
    {
      "cell_type": "markdown",
      "metadata": {
        "id": "HceOjNu-VfN9"
      },
      "source": [
        "### PROBLEM 4 (30 pts.)\n",
        "\n",
        "**Physics Application: Anharmonic Oscillator**\n",
        "\n",
        "_Refer to Exercise 5.10 of the Newman text._ Consider an anharmonic oscillator with potential $V(x)$ symmetric about $x = 0$. Let us set our anharmonic oscillator going with amplitude $a$. That is, at $t = 0$ we release it from rest at position $x = a$ and it swings back towards the origin. Then at $t = 0$ we have $dx/dt = 0$ and the equation for its total energy becomes $E = V(a)$, i.e., the total energy of the particle is given in terms of the amplitude.\n",
        "\n",
        "When the particle reaches the origin for the first time, it has gone through one quarter of a period of the oscillator. The period $T$ is given by: $$ T = \\sqrt{8m} \\int_0^a \\frac{dx}{\\sqrt{V(a)-V(x)}}. $$\n",
        "\n",
        "1. Suppose the potential is $V(x) = x^4$ and the mass of the particle is $m = 1$. Write a Python function that calculates the period of the oscillator for given amplitude a using Gaussian quadrature with $N = 20$ points. Describe each step clearly and concisely. *(16 pts.; 8 pts. for the code & 8 pts. for the discussion text)*\n",
        "\n",
        "2. Use your function to make a graph of the period for amplitudes ranging from $a = 0$ to $a = 2$. Describe the behavior you find and explain these results clearly and concisely. *(14 pts.; 7 pts. for the plot & 7 pts. for the discussion text)*"
      ]
    },
    {
      "cell_type": "markdown",
      "metadata": {},
      "source": [
        "**Solution**"
      ]
    },
    {
      "cell_type": "markdown",
      "metadata": {},
      "source": [
        "The necessary libraries and functions are first imported and the variables are defined."
      ]
    },
    {
      "cell_type": "code",
      "execution_count": 68,
      "metadata": {},
      "outputs": [],
      "source": [
        "# Importing necessary libraries\n",
        "import matplotlib.pyplot as plt\n",
        "from numpy import linspace\n",
        "\n",
        "# Defining the given potential, mass, and points\n",
        "N = 20\n",
        "m = 1\n",
        "V = lambda x: x**4"
      ]
    },
    {
      "cell_type": "markdown",
      "metadata": {},
      "source": [
        "For the period of an oscillator given the amplitude, Gaussian integral is used, like the previous problem, to execute the calculation. Then, the $\\tt linspace()$ function is also used to create an array for the amplitudes of the given range."
      ]
    },
    {
      "cell_type": "code",
      "execution_count": 72,
      "metadata": {},
      "outputs": [
        {
          "name": "stderr",
          "output_type": "stream",
          "text": [
            "/var/folders/nd/l3h_t2k14fqdnbr6dbvvblth0000gn/T/ipykernel_9341/687184736.py:10: RuntimeWarning: divide by zero encountered in true_divide\n",
            "  y = 1/sqrt(E-V(x_p))\n",
            "/var/folders/nd/l3h_t2k14fqdnbr6dbvvblth0000gn/T/ipykernel_9341/687184736.py:11: RuntimeWarning: invalid value encountered in multiply\n",
            "  s = sum(y*w_p)\n"
          ]
        }
      ],
      "source": [
        "# Using gaussian integral\n",
        "x,w = gaussxw(N)\n",
        "def T(i):\n",
        "\ta = 0 # At initial position\n",
        "\tb = i \n",
        "\tx_p = 0.5*(b-a)*x + 0.5*(b+a)\n",
        "\tw_p = 0.5*(b-a)*w\n",
        "\tE = V(i) # Potential at certain amplitude\n",
        "\t\n",
        "\ty = 1/sqrt(E-V(x_p))\n",
        "\ts = sum(y*w_p)\n",
        "\n",
        "\treturn s*sqrt(8*m)\n",
        "\n",
        "# Calculating the periods with the amplitudes ranging from 0 to 2\t\n",
        "amp = linspace(0,2,100)\n",
        "periods = [T(ai) for ai in amp]"
      ]
    },
    {
      "cell_type": "markdown",
      "metadata": {},
      "source": [
        "The resulting values are then plotted using $\\tt matplotlib$, and the features are customized accordingly for better visualization."
      ]
    },
    {
      "cell_type": "code",
      "execution_count": 73,
      "metadata": {},
      "outputs": [
        {
          "data": {
            "image/png": "[encoded data removed]",
            "text/plain": [
              "<Figure size 432x288 with 1 Axes>"
            ]
          },
          "metadata": {
            "needs_background": "light"
          },
          "output_type": "display_data"
        }
      ],
      "source": [
        "# Graphing the resulting period \n",
        "plt.plot(a, periods, color='steelblue', linewidth=3, alpha=0.8) \n",
        "plt.xlabel('Position') # x axis label\n",
        "plt.ylabel('Period') # y axis label\n",
        "plt.show()"
      ]
    },
    {
      "cell_type": "markdown",
      "metadata": {},
      "source": [
        "The plot shows that the period decreases as the position (a) increases which means that as you increase the amplitude, the oscillation becomes faster. It is also noticeable that the period diverges as the amplitude goes to zero. Since you start from the position $x=a$, it takes little to no time for the anharmonic oscillator to return or complete the cycle as it is already near or at its initial position."
      ]
    },
    {
      "cell_type": "markdown",
      "metadata": {
        "id": "BY5x-mZsYoqG"
      },
      "source": [
        "### PROBLEM 5 (20 pts.)\n",
        "\n",
        "**Differentiation using central difference**\n",
        "\n",
        "1. Calculate the derivative of the function $1 + \\frac{1}{2} \\tanh 2x$ in the range $-2 \\le x \\le 2$ using central difference. Describe each step of the calculation clearly and concisely. *(10 pts.; 5 pts. for the code & 5 pts. for the discussion text)*\n",
        "\n",
        "2. Calculate an analytic formula for the derivative and make a graph with your numerical result and the analytic answer on the same plot. Plot the exact answer as lines and the numerical one as dots. Describe how the two results compare. *(10 pts.; 5 pts. for the code & 5 pts. for the discussion text)*"
      ]
    },
    {
      "cell_type": "markdown",
      "metadata": {},
      "source": [
        "**Solution**"
      ]
    },
    {
      "cell_type": "markdown",
      "metadata": {},
      "source": [
        "The necessary functions are first imported and the upper and lower range or bounds of the integral are defined. An arbitrary value of $h$ was also used, and was adjusted later on for more accurate results."
      ]
    },
    {
      "cell_type": "code",
      "execution_count": 124,
      "metadata": {
        "id": "ZWXWJyYdLS5G"
      },
      "outputs": [],
      "source": [
        "from numpy import linspace, tanh, cosh\n",
        "\n",
        "# Defining the range\n",
        "a = -2\n",
        "b = 2\n",
        "h = 10**-3\n",
        "\n",
        "# Defining the values of x and y, from the given\n",
        "x = linspace(a, b, int((b - a) / h), endpoint=True)\n",
        "y = 1 + 0.5 * tanh(2 * x)"
      ]
    },
    {
      "cell_type": "markdown",
      "metadata": {},
      "source": [
        "Then, the integral was computed using central difference with the formula given in the book. And an analytical computation was also done to show comparison."
      ]
    },
    {
      "cell_type": "code",
      "execution_count": 125,
      "metadata": {},
      "outputs": [],
      "source": [
        "# Numerical computation using the formula for the central difference\n",
        "derivative = []\n",
        "for i in range(1, len(x) - 1):\n",
        "    derivative.append((y[i+1] - y[i-1]) / (2 * h))\n",
        "\n",
        "# Analytical computation\n",
        "analytic = 1 / cosh(2 * x)**2"
      ]
    },
    {
      "cell_type": "markdown",
      "metadata": {},
      "source": [
        "Finally, the resulting values were plotted and the plot was just customized for better visualization."
      ]
    },
    {
      "cell_type": "code",
      "execution_count": 126,
      "metadata": {},
      "outputs": [
        {
          "data": {
            "image/png": "[encoded data removed]",
            "text/plain": [
              "<Figure size 432x288 with 1 Axes>"
            ]
          },
          "metadata": {
            "needs_background": "light"
          },
          "output_type": "display_data"
        }
      ],
      "source": [
        "# Plotting the analytical and numerical values\n",
        "plt.plot(x, analytic, color='steelblue', label='Analytical',linewidth=9, alpha=0.5) \n",
        "plt.plot(x[1:-1], derivative, color='brown', label='Numerical',linewidth=2, linestyle = 'dotted', alpha=0.4) \n",
        "\n",
        "# Displaying the plot and the legends\n",
        "plt.legend()\n",
        "plt.show()"
      ]
    },
    {
      "cell_type": "markdown",
      "metadata": {},
      "source": [
        "The plot shows that the numberical and analytical results coincide with each other at $h=10^{-3}$. This implies that by using the interval $2h$ between the points in central difference, instead of just $h$, gives us more accurate results."
      ]
    }
  ],
  "metadata": {
    "colab": {
      "provenance": []
    },
    "kernelspec": {
      "display_name": "Python 3.9.12 ('DS-env')",
      "language": "python",
      "name": "python3"
    },
    "language_info": {
      "codemirror_mode": {
        "name": "ipython",
        "version": 3
      },
      "file_extension": ".py",
      "mimetype": "text/x-python",
      "name": "python",
      "nbconvert_exporter": "python",
      "pygments_lexer": "ipython3",
      "version": "3.9.12"
    },
    "vscode": {
      "interpreter": {
        "hash": "325cdfb7195ed2e5da5bf64975569b179d2c89fa79539866be1fbe172fd55f8d"
      }
    }
  },
  "nbformat": 4,
  "nbformat_minor": 0
}
