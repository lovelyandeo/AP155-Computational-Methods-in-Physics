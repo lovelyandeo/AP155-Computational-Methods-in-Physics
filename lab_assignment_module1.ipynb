{
  "cells": [
    {
      "cell_type": "markdown",
      "metadata": {
        "id": "G0BcK0H_G1Iu"
      },
      "source": [
        "# **AP155 Lab Assignment** \n",
        "## Module 1: Integrals and Derivatives\n",
        "\n",
        "_Instructions_: Answer each problem as completely as you can. Discuss **all** your answers as clearly and concisely as possible. \n",
        "\n",
        "_Scoring Criteria_: 50% - *correctness of code*; 50% - *discussion of the code and results*. Maximum score is **100 points** (Problems 1 to 5 are worth 20, 20, 10, 30, and 20 points, respectively).\n",
        "\n",
        "_Due Date_: **5PM of November 3 (Thu)**\n",
        "\n"
      ]
    },
    {
      "cell_type": "markdown",
      "metadata": {
        "id": "PeHZ9kP8JaVR"
      },
      "source": [
        "### Student Information \n",
        "\n",
        "_Full Name (Last Name, First Name)_: Andeo, Lovely \\\n",
        "_Student No._: 2020-05405\\\n",
        "_Section_: HX4"
      ]
    },
    {
      "cell_type": "markdown",
      "metadata": {
        "id": "Hc183co-J4eI"
      },
      "source": [
        "### Submission Information\n",
        "\n",
        "_Date and Time Submitted (most recent upload)_: \n",
        "\n",
        "**HONOR PLEDGE** I affirm that I have upheld the highest principles of honesty and integrity in my academic work and that this lab assignment is my own work.\n",
        "\n",
        "**Sign here with your full name: Lovely L. Andeo** "
      ]
    },
    {
      "cell_type": "markdown",
      "metadata": {
        "id": "X1UGsRpW-eQs"
      },
      "source": [
        "### Grading Information (c/o Lab Instructor)\n",
        "\n",
        "TOTAL SCORE: **XX**/100\n",
        "\n",
        "Score breakdown:\n",
        "* Problem 1 - XX/20\n",
        "* Problem 2 - XX/20\n",
        "* Problem 3 - XX/10\n",
        "* Problem 4 - XX/30\n",
        "* Problem 5 - XX/20\n",
        "\n",
        "_Date and Time Scored (MM/DD/YYYY HH:MM AM/PM):_ "
      ]
    },
    {
      "cell_type": "markdown",
      "metadata": {
        "id": "LxWuqiCFMsEh"
      },
      "source": [
        "### PROBLEM 1 (20 pts.) \n",
        "**Integration using the trapezoidal rule and Simpson's rule**\n",
        "\n",
        "Calculate the integral of the function $ 2x^4 + 3x^2 + 4x + 5$ from $x=0$ to $x=5$.\n",
        "\n",
        "1. Do the numerical calculation using the trapezoidal rule with 10, 100, and 1,000 slices. Describe each step of the calculation clearly and concisely. *(8 pts.; 4 pts. for the code & 4 pts. for the discussion text)*\n",
        "\n",
        "2. What are the percentage errors of your answers in (1)? *(2 pts.)*\n",
        "\n",
        "3. Repeat the calculation using Simpson's rule with 10, 100, and 1,000 slices. Describe each step of the calculation clearly and concisely. *(8 pts.;  4 pts. for the code & 4 pts. for the discussion text)*\n",
        "\n",
        "4. What are the percentage errors of your answers in (3)? How do they compare with the results from (1) for the same number of slices? *(2 pts.)*"
      ]
    },
    {
      "cell_type": "code",
      "execution_count": 45,
      "metadata": {},
      "outputs": [
        {
          "name": "stdout",
          "output_type": "stream",
          "text": [
            "N = 10 , Value= 1471.4375 , Percent error = 1.4784482758620765\n",
            "N = 100 , Value= 1450.2145812500003 , Percent error = 0.014798706896579361\n",
            "N = 1000 , Value= 1450.0021458331234 , Percent error = 0.00014798849126140823\n"
          ]
        }
      ],
      "source": [
        "import numpy as np\n",
        "\n",
        "# This is the function we want to integrate\n",
        "def f(x):\n",
        "    return 2*x**4 + 3*x**2 +4*x + 5\n",
        "\n",
        "# Implementing the trapezoidal rule\n",
        "def integ_trap(N, a, b):\n",
        "  h= (b-a)/N\n",
        "\n",
        "  s = 0.5*f(a) + 0.5*f(b)\n",
        "  for k in range(1,N):\n",
        "      s += f(a+k*h)\n",
        "  s = s*h\n",
        "  return(s)\n",
        "\n",
        "N_arr = np.array([10, 100, 1000]) # get estimated integrals for different values of N\n",
        "a = 0.0 # lower bound\n",
        "b = 5.0 # upper bound\n",
        "I_exact = 1450.0\n",
        "pct_err = np.zeros(len(N_arr))\n",
        "s_arr = np.zeros(len(N_arr))\n",
        "\n",
        "for i in np.arange(len(N_arr)):\n",
        "  s_arr[i] = integ_trap(N_arr[i], a, b)\n",
        "  pct_err[i] = np.abs(1- s_arr[i]/I_exact)*100\n",
        "  print(\"N =\",N_arr[i], \", Estimate=\",s_arr[i], \", Percent error =\",pct_err[i])\n"
      ]
    },
    {
      "cell_type": "code",
      "execution_count": 44,
      "metadata": {},
      "outputs": [
        {
          "name": "stdout",
          "output_type": "stream",
          "text": [
            "N = 10 , Value= 1450.0833333333333 , Percent error = 0.005747126436772554\n",
            "N = 100 , Value= 1450.0000083333337 , Percent error = 5.747126552435589e-07\n",
            "N = 1000 , Value= 1450.0000000008342 , Percent error = 5.753175713607561e-11\n"
          ]
        }
      ],
      "source": [
        "def integ_simp(N, a, b):\n",
        "  h = (b-a)/N\n",
        "\n",
        "  s = f(a) + f(b)\n",
        "  for k in range(1,N,2): # loops over the odd values of k\n",
        "      s += 4*f(a+k*h)\n",
        "  for k in range(2,N,2): # loops over the even values of k\n",
        "      s += 2*f(a+k*h)\n",
        "  s = s*(1./3)*h\n",
        "  return(s)\n",
        "\n",
        "N_arr = np.array([10, 100, 1000]) # estimates integrals for different values of N\n",
        "a = 0.0\n",
        "b = 5.0\n",
        "s_arr = np.zeros(len(N_arr))\n",
        "pct_err = np.zeros(len(N_arr))\n",
        "I_exact = 1450.0\n",
        "\n",
        "for i in np.arange(len(N_arr)):\n",
        "  s_arr[i] = integ_simp(N_arr[i], a, b)\n",
        "  pct_err[i] = np.abs(1- s_arr[i]/I_exact)*100\n",
        "  print(\"N =\",N_arr[i], \", Estimate=\",s_arr[i], \", Percent error =\",pct_err[i])\n"
      ]
    },
    {
      "cell_type": "markdown",
      "metadata": {
        "id": "kBX9EyMLOnXj"
      },
      "source": [
        "### PROBLEM 2 (20 pts.)\n",
        "\n",
        "**Integration using the adaptive trapezoidal rule method and Romberg integration**\n",
        "\n",
        "Calculate the integral $ I = \\int_0^1 \\sin^2 \\sqrt{100x} dx $.\n",
        "\n",
        "1. Do the numerical calculation using the adaptive trapezoidal rule method to an approximate accuracy of $\\epsilon = 10^{-6}$. Start with one single integration slice and work up from there to two, four, eight, and so forth. Save and print out the number of slices, its estimate of the integral, and its estimate of the error on the integral, for each value of the number of slices $N$, until the target accuracy is reached. *(8 pts.; 4 pts. for the code & 4 pts. for the discussion text)*\n",
        "\n",
        "2. Repeat the calculation using the Romberg integration technique. Save and print out the same variables as in (1). *(8 pts.; 4 pts. for the code & 4 pts. for the discussion text)*\n",
        "\n",
        "3. Compare the results from both calculations by creating a plot of error estimates vs. $N$. Annotate your chart completely (include proper axis labels and legend). Describe how the trends for the two techniques compare. *(4 pts.; 2 pts. for the chart & 2 pts. for the discussion text)*"
      ]
    },
    {
      "cell_type": "code",
      "execution_count": 63,
      "metadata": {
        "id": "GABjwlXCR97i"
      },
      "outputs": [
        {
          "ename": "NameError",
          "evalue": "name 'integ_adapt' is not defined",
          "output_type": "error",
          "traceback": [
            "\u001b[0;31m---------------------------------------------------------------------------\u001b[0m",
            "\u001b[0;31mNameError\u001b[0m                                 Traceback (most recent call last)",
            "\u001b[1;32m/Users/lovelyandeo/Documents/GitHub/AP155/lab_assignment_module1.ipynb Cell 9\u001b[0m in \u001b[0;36m<cell line: 30>\u001b[0;34m()\u001b[0m\n\u001b[1;32m     <a href='vscode-notebook-cell:/Users/lovelyandeo/Documents/GitHub/AP155/lab_assignment_module1.ipynb#X10sZmlsZQ%3D%3D?line=27'>28</a>\u001b[0m I_exact \u001b[39m=\u001b[39m \u001b[39m0.4558325323090851\u001b[39m\n\u001b[1;32m     <a href='vscode-notebook-cell:/Users/lovelyandeo/Documents/GitHub/AP155/lab_assignment_module1.ipynb#X10sZmlsZQ%3D%3D?line=29'>30</a>\u001b[0m \u001b[39mfor\u001b[39;00m i \u001b[39min\u001b[39;00m np\u001b[39m.\u001b[39marange(\u001b[39mlen\u001b[39m(N_arr)):\n\u001b[0;32m---> <a href='vscode-notebook-cell:/Users/lovelyandeo/Documents/GitHub/AP155/lab_assignment_module1.ipynb#X10sZmlsZQ%3D%3D?line=30'>31</a>\u001b[0m   s_arr[i] \u001b[39m=\u001b[39m integ_adapt(N_arr[i], a, b)\n\u001b[1;32m     <a href='vscode-notebook-cell:/Users/lovelyandeo/Documents/GitHub/AP155/lab_assignment_module1.ipynb#X10sZmlsZQ%3D%3D?line=31'>32</a>\u001b[0m   pct_err[i] \u001b[39m=\u001b[39m pct_err[i] \u001b[39m=\u001b[39m np\u001b[39m.\u001b[39mabs(\u001b[39m1\u001b[39m\u001b[39m-\u001b[39m s_arr[i]\u001b[39m/\u001b[39mI_exact)\u001b[39m*\u001b[39m\u001b[39m100\u001b[39m\n\u001b[1;32m     <a href='vscode-notebook-cell:/Users/lovelyandeo/Documents/GitHub/AP155/lab_assignment_module1.ipynb#X10sZmlsZQ%3D%3D?line=32'>33</a>\u001b[0m   \u001b[39mprint\u001b[39m(\u001b[39m\"\u001b[39m\u001b[39mN =\u001b[39m\u001b[39m\"\u001b[39m,N_arr[i], \u001b[39m\"\u001b[39m\u001b[39m, Estimate=\u001b[39m\u001b[39m\"\u001b[39m,s_arr[i], \u001b[39m\"\u001b[39m\u001b[39m, Percent error =\u001b[39m\u001b[39m\"\u001b[39m,pct_err[i])\n",
            "\u001b[0;31mNameError\u001b[0m: name 'integ_adapt' is not defined"
          ]
        }
      ],
      "source": [
        "from numpy import sqrt, sin, cos\n",
        "import scipy.integrate as integrate\n",
        "\n",
        "def f(x):\n",
        "    return sin(sqrt(100*x))**2\n",
        "\n",
        "def trap_adapt(f,a,b,epsilon=10e-6):    \n",
        "    def step(x1,x2,f1,f2):\n",
        "        xm = (x1+x2)/2.0\n",
        "        f = f(x)\n",
        "        h1 = x2-x1\n",
        "        h2 = h1/2.0\n",
        "        I1 = (f1+f2)*h1/2.0\n",
        "        I2 = (f1+2*f+f2)*h2/2.0\n",
        "        error = abs((I2-I1)/3.0) # leading term in the error expression\n",
        "        if error <= h2*delta:\n",
        "            points.append(xm) # add the points to the list to check if it is really using more points for more rapid-varying regions\n",
        "            return h2/3*(f1 + 4*fm + f2)\n",
        "        else:\n",
        "            return step(x1,xm,f1,fm)+step(xm,x2,fm,f2) \n",
        "    delta = epsilon/(b-a)\n",
        "    fa, fb = f(a), f(b)  \n",
        "    return step(a,b,fa,fb)\n",
        "\n",
        "N_arr = np.array([1, 2, 6, 8]) # slices\n",
        "a = 0.0\n",
        "b = 1.0\n",
        "I_exact = 0.4558325323090851\n",
        "\n",
        "for i in np.arange(len(N_arr)):\n",
        "  s_arr[i] = integ_adapt(N_arr[i], a, b)\n",
        "  pct_err[i] = pct_err[i] = np.abs(1- s_arr[i]/I_exact)*100\n",
        "  print(\"N =\",N_arr[i], \", Estimate=\",s_arr[i], \", Percent error =\",pct_err[i])\n"
      ]
    },
    {
      "cell_type": "code",
      "execution_count": 61,
      "metadata": {},
      "outputs": [],
      "source": [
        "def f(x):\n",
        "    return sin(sqrt(100*x))**2\n",
        "\n",
        "def trap_adapt(f,a,b,epsilon=10e-6):    \n",
        "    def step(x1,x2,f1,f2):\n",
        "        xm = (x1+x2)/2.0\n",
        "        fm = f(x)\n",
        "        h1 = x2-x1\n",
        "        h2 = h1/2.0\n",
        "        I1 = (f1+f2)*h1/2.0\n",
        "        I2 = (f1+2*fm+f2)*h2/2.0\n",
        "        error = abs((I2-I1)/3.0) # leading term in the error expression\n",
        "        if error <= h2*delta:\n",
        "            points.append(xm) # add the points to the list to check if it is really using more points for more rapid-varying regions\n",
        "            return h2/3*(f1 + 4*fm + f2)\n",
        "        else:\n",
        "            return step(x1,xm,f1,fm)+step(xm,x2,fm,f2) \n",
        "    delta = epsilon/(b-a)\n",
        "    fa, fb = f(a), f(b)  \n",
        "    return step(a,b,fa,fb)\n",
        "    print(delta)"
      ]
    },
    {
      "cell_type": "markdown",
      "metadata": {},
      "source": [
        "make for loop that computes N=1, then it has to loop by 2 until it reaches the best approximation of 10^-6"
      ]
    },
    {
      "cell_type": "markdown",
      "metadata": {
        "id": "m2a6sg90R-NX"
      },
      "source": [
        "### PROBLEM 3 (10 pts.)\n",
        "\n",
        "**Integration using Gaussian quadrature**\n",
        "\n",
        "Calculate the integral from Problem 1 using the Gaussian quadrature method: $ 2x^4 + 3x^2 + 4x + 5$ from $x=0$ to $x=5$.\n",
        "\n",
        "1. Define the function $\\tt gaussxw$ from Appendix E of the Newman text (and run the cell). *(2 pts.)*\n",
        "\n",
        "2. Calculate the integral using the $\\tt gaussxw$ function in (1) and number of slices $N = 3$. Describe each step in the calculation clearly and concisely. *(8 pts.; 4 pts. for the code & 4 pts. for the discussion text)*"
      ]
    },
    {
      "cell_type": "code",
      "execution_count": null,
      "metadata": {
        "id": "YO_PDJ4VIVs5"
      },
      "outputs": [],
      "source": []
    },
    {
      "cell_type": "markdown",
      "metadata": {
        "id": "HceOjNu-VfN9"
      },
      "source": [
        "### PROBLEM 4 (30 pts.)\n",
        "\n",
        "**Physics Application: Anharmonic Oscillator**\n",
        "\n",
        "_Refer to Exercise 5.10 of the Newman text._ Consider an anharmonic oscillator with potential $V(x)$ symmetric about $x = 0$. Let us set our anharmonic oscillator going with amplitude $a$. That is, at $t = 0$ we release it from rest at position $x = a$ and it swings back towards the origin. Then at $t = 0$ we have $dx/dt = 0$ and the equation for its total energy becomes $E = V(a)$, i.e., the total energy of the particle is given in terms of the amplitude.\n",
        "\n",
        "When the particle reaches the origin for the first time, it has gone through one quarter of a period of the oscillator. The period $T$ is given by: $$ T = \\sqrt{8m} \\int_0^a \\frac{dx}{\\sqrt{V(a)-V(x)}}. $$\n",
        "\n",
        "1. Suppose the potential is $V(x) = x^4$ and the mass of the particle is $m = 1$. Write a Python function that calculates the period of the oscillator for given amplitude a using Gaussian quadrature with $N = 20$ points. Describe each step clearly and concisely. *(16 pts.; 8 pts. for the code & 8 pts. for the discussion text)*\n",
        "\n",
        "2. Use your function to make a graph of the period for amplitudes ranging from $a = 0$ to $a = 2$. Describe the behavior you find and explain these results clearly and concisely. *(14 pts.; 7 pts. for the plot & 7 pts. for the discussion text)*"
      ]
    },
    {
      "cell_type": "code",
      "execution_count": null,
      "metadata": {
        "id": "p28JF-OQYock"
      },
      "outputs": [],
      "source": []
    },
    {
      "cell_type": "markdown",
      "metadata": {
        "id": "BY5x-mZsYoqG"
      },
      "source": [
        "### PROBLEM 5 (20 pts.)\n",
        "\n",
        "**Differentiation using central difference**\n",
        "\n",
        "1. Calculate the derivative of the function $1 + \\frac{1}{2} \\tanh 2x$ in the range $-2 \\le x \\le 2$ using central difference. Describe each step of the calculation clearly and concisely. *(10 pts.; 5 pts. for the code & 5 pts. for the discussion text)*\n",
        "\n",
        "2. Calculate an analytic formula for the derivative and make a graph with your numerical result and the analytic answer on the same plot. Plot the exact answer as lines and the numerical one as dots. Describe how the two results compare. *(10 pts.; 5 pts. for the code & 5 pts. for the discussion text)*"
      ]
    },
    {
      "cell_type": "code",
      "execution_count": null,
      "metadata": {
        "id": "ZWXWJyYdLS5G"
      },
      "outputs": [],
      "source": []
    }
  ],
  "metadata": {
    "colab": {
      "provenance": []
    },
    "kernelspec": {
      "display_name": "Python 3.9.12 ('base')",
      "language": "python",
      "name": "python3"
    },
    "language_info": {
      "codemirror_mode": {
        "name": "ipython",
        "version": 3
      },
      "file_extension": ".py",
      "mimetype": "text/x-python",
      "name": "python",
      "nbconvert_exporter": "python",
      "pygments_lexer": "ipython3",
      "version": "3.9.12"
    },
    "vscode": {
      "interpreter": {
        "hash": "875bc8decea8e8a28e9af2723dd286dee754a23a7f8573f7363ab2cfac0674ef"
      }
    }
  },
  "nbformat": 4,
  "nbformat_minor": 0
}
