{
 "cells": [
  {
   "cell_type": "code",
   "execution_count": null,
   "metadata": {},
   "outputs": [],
   "source": [
    "import numpy as np\n",
    "from numpy import sqrt, sin, e, ones, linspace\n",
    "\n",
    "# This is the function we want to integrate\n",
    "def f(x):\n",
    "    return sin(sqrt(100*x))**2\n",
    "# Integration limits\n",
    "a = 0.0 \n",
    "b = 1.0 \n",
    "\n",
    "# Initial number of slices\n",
    "N = 1 \n",
    "\n",
    "# Bound of accuracy\n",
    "acc = 1*e**(-6)\n",
    "\n",
    "# Implementing the trapezoidal rule\n",
    "def integ_atrap(N, a, b):\n",
    "    h= (b-a)/N # edit this\n",
    "    x = linspace(a,b,N+1) # number of points is number of slices + 1\n",
    "\n",
    "    weight = ones(N+1) # number of points is number of slices + 1\n",
    "    weight[0] = 0\n",
    "    weight[-1] = 0\n",
    "    weight[::2] = 0 # summing over odd only\n",
    "    \n",
    "    I = 0.5*I0 + h*sum(weight*f(x))\n",
    "    \n",
    "    return I, (1/3)*(I-I0)\n",
    "\n",
    "\n",
    "Ivals, Evals, Nvals = list(), list(), list()\n",
    "I0, E0 = integ_atrap(f,N,0)[0], 1\n",
    "\n",
    "while abs(E0) > acc:\n",
    "    \n",
    "    N *= 2\n",
    "    I0, E0 = integ_atrap(f,N,I0)\n",
    "    Ivals.append(I0)\n",
    "    Evals.append(E0)\n",
    "    Nvals.append(N)\n",
    "\n",
    "hz = ones(len(Nvals))*1e-6"
   ]
  },
  {
   "cell_type": "code",
   "execution_count": null,
   "metadata": {},
   "outputs": [],
   "source": [
    "from __future__ import division # python 2 compat\n",
    "# \"structured\" adaptive version, translated from Racket\n",
    "def _quad_simpsons_mem(f, a, fa, b, fb):\n",
    "    \"\"\"Evaluates the Simpson's Rule, also returning m and f(m) to reuse\"\"\"\n",
    "    m = (a + b) / 2\n",
    "    fm = f(m)\n",
    "    return (m, fm, abs(b - a) / 6 * (fa + 4 * fm + fb))\n",
    "\n",
    "def _quad_asr(f, a, fa, b, fb, eps, whole, m, fm):\n",
    "    \"\"\"\n",
    "    Efficient recursive implementation of adaptive Simpson's rule.\n",
    "    Function values at the start, middle, end of the intervals are retained.\n",
    "    \"\"\"\n",
    "    lm, flm, left  = _quad_simpsons_mem(f, a, fa, m, fm)\n",
    "    rm, frm, right = _quad_simpsons_mem(f, m, fm, b, fb)\n",
    "    delta = left + right - whole\n",
    "    if abs(delta) <= 15 * eps:\n",
    "        return left + right + delta / 15\n",
    "    return _quad_asr(f, a, fa, m, fm, eps/2, left , lm, flm) +\\\n",
    "           _quad_asr(f, m, fm, b, fb, eps/2, right, rm, frm)\n",
    "\n",
    "def quad_asr(f, a, b, eps):\n",
    "    \"\"\"Integrate f from a to b using Adaptive Simpson's Rule with max error of eps.\"\"\"\n",
    "    fa, fb = f(a), f(b)\n",
    "    m, fm, whole = _quad_simpsons_mem(f, a, fa, b, fb)\n",
    "    return _quad_asr(f, a, fa, b, fb, eps, whole, m, fm)\n",
    "\n",
    "from math import sin\n",
    "print(quad_asr(sin, 0, 1, 1e-10))"
   ]
  }
 ],
 "metadata": {
  "kernelspec": {
   "display_name": "Python 3.9.6 64-bit",
   "language": "python",
   "name": "python3"
  },
  "language_info": {
   "name": "python",
   "version": "3.9.6"
  },
  "orig_nbformat": 4,
  "vscode": {
   "interpreter": {
    "hash": "31f2aee4e71d21fbe5cf8b01ff0e069b9275f58929596ceb00d14d90e3e16cd6"
   }
  }
 },
 "nbformat": 4,
 "nbformat_minor": 2
}
